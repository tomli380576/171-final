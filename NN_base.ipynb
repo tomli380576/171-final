{
 "cells": [
  {
   "cell_type": "markdown",
   "metadata": {},
   "source": [
    "# Final Project"
   ]
  },
  {
   "cell_type": "code",
   "execution_count": 2,
   "metadata": {},
   "outputs": [],
   "source": [
    "import numpy as np\n",
    "import pandas as pd\n",
    "import tensorflow as tf\n",
    "import keras\n",
    "import time\n",
    "\n",
    "from keras.wrappers.scikit_learn import KerasRegressor\n",
    "from typing import Final\n",
    "from sklearn.metrics import mean_squared_error\n",
    "from sklearn.preprocessing import MinMaxScaler\n",
    "from sklearn.model_selection import train_test_split, KFold, RandomizedSearchCV\n",
    "\n",
    "import os; os.environ['TF_CPP_MIN_LOG_LEVEL'] = '1' # Suppress TF AVX info message"
   ]
  },
  {
   "cell_type": "markdown",
   "metadata": {},
   "source": [
    "## Data Preprocessing"
   ]
  },
  {
   "cell_type": "code",
   "execution_count": 3,
   "metadata": {},
   "outputs": [
    {
     "name": "stdout",
     "output_type": "stream",
     "text": [
      "55 states\n",
      "          county    state  cases  deaths  2020 population  2019 raw GDP  \\\n",
      "0        Autauga  Alabama   4190    48.0          58877.0     1540762.0   \n",
      "1        Baldwin  Alabama  13601   161.0         233140.0     7134734.0   \n",
      "2        Barbour  Alabama   1514    32.0          25180.0      729105.0   \n",
      "3           Bibb  Alabama   1834    46.0          22223.0      380453.0   \n",
      "4         Blount  Alabama   4641    63.0          59081.0      932215.0   \n",
      "...          ...      ...    ...     ...              ...           ...   \n",
      "3240  Sweetwater  Wyoming   2966    16.0          42158.0     3677972.0   \n",
      "3241       Teton  Wyoming   2138     4.0          23347.0     2268742.0   \n",
      "3242       Uinta  Wyoming   1558     7.0          20441.0      881052.0   \n",
      "3243    Washakie  Wyoming    780    19.0           7658.0      349686.0   \n",
      "3244      Weston  Wyoming    476     2.0           6809.0      322576.0   \n",
      "\n",
      "      percent change 2020  \n",
      "0                    -1.3  \n",
      "1                    -2.1  \n",
      "2                    -5.8  \n",
      "3                     2.1  \n",
      "4                    -5.4  \n",
      "...                   ...  \n",
      "3240                -10.9  \n",
      "3241                 -4.1  \n",
      "3242                -10.3  \n",
      "3243                 -3.7  \n",
      "3244                 -3.1  \n",
      "\n",
      "[3245 rows x 7 columns]\n"
     ]
    }
   ],
   "source": [
    "# Build the complete dataset\n",
    "\n",
    "# Read in the raw data\n",
    "gdp_raw = pd.read_excel('gdp.xlsx').set_axis(\n",
    "    [\n",
    "        'county', '2017', '2018',\n",
    "        '2019', '2020', 'rank 2018',\n",
    "        'percent change 2018', 'percent change 2019',\n",
    "        'percent change 2020', 'rank 2020'\n",
    "    ],\n",
    "    axis=1,\n",
    "    inplace=False\n",
    ")\n",
    "\n",
    "gdp_clean: pd.DataFrame = gdp_raw.drop(\n",
    "    columns=[\n",
    "        'rank 2018', '2017', '2018', '2020',\n",
    "        'rank 2020', 'percent change 2018',\n",
    "        'percent change 2019'\n",
    "    ],\n",
    "    inplace=False).iloc[5:3222]\n",
    "\n",
    "state_names = pd.read_csv('us-counties-2020.csv')['state'].unique()\n",
    "counties_df = pd.read_csv('complete.csv')\n",
    "\n",
    "# Initialize empty columns\n",
    "counties_df['2019 raw GDP'] = np.nan  # iloc =5\n",
    "counties_df['percent change 2020'] = np.nan  # iloc = 6\n",
    "\n",
    "# Rearrange the gpd data so that it's ordered by counties\n",
    "curr_state = None\n",
    "for index, row in gdp_clean.iterrows():\n",
    "    if row[0] in state_names:\n",
    "        curr_state = row[0]\n",
    "        continue\n",
    "    else:\n",
    "        row_index = counties_df.index[(counties_df['state'] == curr_state) & (\n",
    "            counties_df['county'] == row[0])].tolist()\n",
    "        counties_df.iloc[[row_index], [5]] = row[1]  # type: ignore\n",
    "        counties_df.iloc[[row_index], [6]] = row[2]  # type: ignore\n",
    "\n",
    "# Datatype conversion\n",
    "counties_df['2019 raw GDP'] = counties_df['2019 raw GDP'].astype('float64')\n",
    "counties_df['percent change 2020'] = counties_df['percent change 2020'].astype(\n",
    "    'float64')\n",
    "\n",
    "print(f\"{len(counties_df['state'].unique())} states\")\n",
    "print(counties_df)\n"
   ]
  },
  {
   "cell_type": "code",
   "execution_count": 4,
   "metadata": {},
   "outputs": [
    {
     "name": "stdout",
     "output_type": "stream",
     "text": [
      "          county  cases  deaths  2020 population  2019 raw GDP  \\\n",
      "0        Autauga   4190    48.0          58877.0     1540762.0   \n",
      "1        Baldwin  13601   161.0         233140.0     7134734.0   \n",
      "2        Barbour   1514    32.0          25180.0      729105.0   \n",
      "3           Bibb   1834    46.0          22223.0      380453.0   \n",
      "4         Blount   4641    63.0          59081.0      932215.0   \n",
      "...          ...    ...     ...              ...           ...   \n",
      "3240  Sweetwater   2966    16.0          42158.0     3677972.0   \n",
      "3241       Teton   2138     4.0          23347.0     2268742.0   \n",
      "3242       Uinta   1558     7.0          20441.0      881052.0   \n",
      "3243    Washakie    780    19.0           7658.0      349686.0   \n",
      "3244      Weston    476     2.0           6809.0      322576.0   \n",
      "\n",
      "      percent change 2020  Alabama  Alaska  Arizona  Arkansas  ...  Tennessee  \\\n",
      "0                    -1.3        1       0        0         0  ...          0   \n",
      "1                    -2.1        1       0        0         0  ...          0   \n",
      "2                    -5.8        1       0        0         0  ...          0   \n",
      "3                     2.1        1       0        0         0  ...          0   \n",
      "4                    -5.4        1       0        0         0  ...          0   \n",
      "...                   ...      ...     ...      ...       ...  ...        ...   \n",
      "3240                -10.9        0       0        0         0  ...          0   \n",
      "3241                 -4.1        0       0        0         0  ...          0   \n",
      "3242                -10.3        0       0        0         0  ...          0   \n",
      "3243                 -3.7        0       0        0         0  ...          0   \n",
      "3244                 -3.1        0       0        0         0  ...          0   \n",
      "\n",
      "      Texas  Utah  Vermont  Virgin Islands  Virginia  Washington  \\\n",
      "0         0     0        0               0         0           0   \n",
      "1         0     0        0               0         0           0   \n",
      "2         0     0        0               0         0           0   \n",
      "3         0     0        0               0         0           0   \n",
      "4         0     0        0               0         0           0   \n",
      "...     ...   ...      ...             ...       ...         ...   \n",
      "3240      0     0        0               0         0           0   \n",
      "3241      0     0        0               0         0           0   \n",
      "3242      0     0        0               0         0           0   \n",
      "3243      0     0        0               0         0           0   \n",
      "3244      0     0        0               0         0           0   \n",
      "\n",
      "      West Virginia  Wisconsin  Wyoming  \n",
      "0                 0          0        0  \n",
      "1                 0          0        0  \n",
      "2                 0          0        0  \n",
      "3                 0          0        0  \n",
      "4                 0          0        0  \n",
      "...             ...        ...      ...  \n",
      "3240              0          0        1  \n",
      "3241              0          0        1  \n",
      "3242              0          0        1  \n",
      "3243              0          0        1  \n",
      "3244              0          0        1  \n",
      "\n",
      "[2274 rows x 61 columns]\n"
     ]
    }
   ],
   "source": [
    "# One hot encoding for the state names\n",
    "encoded_state_names = pd.get_dummies(counties_df['state'])\n",
    "counties_df = counties_df.drop(columns=['state'])\\\n",
    "                        .join(encoded_state_names)\\\n",
    "                        .dropna(axis='index', how='any')\n",
    "print(counties_df)"
   ]
  },
  {
   "cell_type": "markdown",
   "metadata": {},
   "source": [
    "## Building the model"
   ]
  },
  {
   "cell_type": "code",
   "execution_count": 5,
   "metadata": {},
   "outputs": [],
   "source": [
    "# Setup some constants\n",
    "DEFAULT_LEARNING_RATE: Final[float] = 0.1\n",
    "DEFAULT_EPOCHS: Final[int] = 500"
   ]
  },
  {
   "cell_type": "code",
   "execution_count": 6,
   "metadata": {},
   "outputs": [
    {
     "name": "stdout",
     "output_type": "stream",
     "text": [
      "Model: \"Default_COVID_Classifier\"\n",
      "_________________________________________________________________\n",
      " Layer (type)                Output Shape              Param #   \n",
      "=================================================================\n",
      " hidden_layer_1 (Dense)      (None, 30)                1800      \n",
      "                                                                 \n",
      " hidden_layer_2 (Dense)      (None, 30)                930       \n",
      "                                                                 \n",
      " hidden_layer_3 (Dense)      (None, 15)                465       \n",
      "                                                                 \n",
      " hidden_layer_4 (Dense)      (None, 5)                 80        \n",
      "                                                                 \n",
      " output (Dense)              (None, 1)                 6         \n",
      "                                                                 \n",
      "=================================================================\n",
      "Total params: 3,281\n",
      "Trainable params: 3,281\n",
      "Non-trainable params: 0\n",
      "_________________________________________________________________\n",
      "None\n"
     ]
    }
   ],
   "source": [
    "def BuildDefaultModel():\n",
    "    SGD_optimizer: Final = tf.keras.optimizers.SGD(\n",
    "        learning_rate=DEFAULT_LEARNING_RATE)\n",
    "    lossFunction = tf.keras.losses.MeanSquaredError()\n",
    "\n",
    "    model: keras.Sequential = keras.Sequential([\n",
    "        keras.Input(shape=(59)),\n",
    "        tf.keras.layers.Dense(\n",
    "            units=30, activation=tf.nn.relu, name='hidden_layer_1'),\n",
    "        tf.keras.layers.Dense(\n",
    "            units=30, activation=tf.nn.relu, name='hidden_layer_2'),\n",
    "        tf.keras.layers.Dense(\n",
    "            units=15, activation=tf.nn.relu, name='hidden_layer_3'),\n",
    "        tf.keras.layers.Dense(\n",
    "            units=5, activation=tf.nn.relu, name='hidden_layer_4'),\n",
    "        tf.keras.layers.Dense(units=1, activation=tf.nn.relu, name='output'),\n",
    "    ], name='Default_COVID_Regressor')\n",
    "\n",
    "    model.compile(loss=lossFunction, optimizer=SGD_optimizer,\n",
    "                  metrics=['MeanSquaredError'])\n",
    "    return model\n",
    "\n",
    "\n",
    "defaultCovidRegressor = BuildDefaultModel()\n",
    "print(defaultCovidRegressor.summary())\n"
   ]
  },
  {
   "cell_type": "code",
   "execution_count": 7,
   "metadata": {},
   "outputs": [
    {
     "name": "stdout",
     "output_type": "stream",
     "text": [
      "      2020 population  2019 raw GDP  Alabama  Alaska  Arizona  Arkansas  \\\n",
      "0            0.005855      0.002164        1       0        0         0   \n",
      "1            0.023301      0.010113        1       0        0         0   \n",
      "2            0.002481      0.001011        1       0        0         0   \n",
      "3            0.002185      0.000516        1       0        0         0   \n",
      "4            0.005875      0.001300        1       0        0         0   \n",
      "...               ...           ...      ...     ...      ...       ...   \n",
      "3240         0.004181      0.005201        0       0        0         0   \n",
      "3241         0.002298      0.003199        0       0        0         0   \n",
      "3242         0.002007      0.001227        0       0        0         0   \n",
      "3243         0.000727      0.000472        0       0        0         0   \n",
      "3244         0.000642      0.000434        0       0        0         0   \n",
      "\n",
      "      California  Colorado  Connecticut  Delaware  ...  Utah  Vermont  \\\n",
      "0              0         0            0         0  ...     0        0   \n",
      "1              0         0            0         0  ...     0        0   \n",
      "2              0         0            0         0  ...     0        0   \n",
      "3              0         0            0         0  ...     0        0   \n",
      "4              0         0            0         0  ...     0        0   \n",
      "...          ...       ...          ...       ...  ...   ...      ...   \n",
      "3240           0         0            0         0  ...     0        0   \n",
      "3241           0         0            0         0  ...     0        0   \n",
      "3242           0         0            0         0  ...     0        0   \n",
      "3243           0         0            0         0  ...     0        0   \n",
      "3244           0         0            0         0  ...     0        0   \n",
      "\n",
      "      Virgin Islands  Virginia  Washington  West Virginia  Wisconsin  Wyoming  \\\n",
      "0                  0         0           0              0          0        0   \n",
      "1                  0         0           0              0          0        0   \n",
      "2                  0         0           0              0          0        0   \n",
      "3                  0         0           0              0          0        0   \n",
      "4                  0         0           0              0          0        0   \n",
      "...              ...       ...         ...            ...        ...      ...   \n",
      "3240               0         0           0              0          0        1   \n",
      "3241               0         0           0              0          0        1   \n",
      "3242               0         0           0              0          0        1   \n",
      "3243               0         0           0              0          0        1   \n",
      "3244               0         0           0              0          0        1   \n",
      "\n",
      "      Positivity Rate  Death Rate  \n",
      "0            0.071165    0.000815  \n",
      "1            0.058338    0.000691  \n",
      "2            0.060127    0.001271  \n",
      "3            0.082527    0.002070  \n",
      "4            0.078553    0.001066  \n",
      "...               ...         ...  \n",
      "3240         0.070354    0.000380  \n",
      "3241         0.091575    0.000171  \n",
      "3242         0.076219    0.000342  \n",
      "3243         0.101854    0.002481  \n",
      "3244         0.069907    0.000294  \n",
      "\n",
      "[2274 rows x 59 columns]\n"
     ]
    }
   ],
   "source": [
    "# Build the input dataset X\n",
    "\n",
    "input_attributes = counties_df.drop(\n",
    "    columns=['percent change 2020', 'county'], inplace=False)\n",
    "\n",
    "input_attributes['2019 raw GDP'] = input_attributes['2019 raw GDP'].astype(\n",
    "    'float64')\n",
    "input_attributes['cases'] = input_attributes['cases'].astype('int32')\n",
    "\n",
    "input_attributes['Positivity Rate'] = input_attributes['cases'] / \\\n",
    "    input_attributes['2020 population']\n",
    "input_attributes['Death Rate'] = input_attributes['deaths'] / \\\n",
    "    input_attributes['2020 population']\n",
    "\n",
    "input_attributes.drop(columns=['cases', 'deaths'], inplace=True)\n",
    "\n",
    "# Scale the raw GDP and population individually after the positivity rates\n",
    "# Otherwise the rates also get normalized\n",
    "input_attributes['2019 raw GDP'] = MinMaxScaler().fit_transform(\n",
    "    np.array(input_attributes['2019 raw GDP']).reshape(-1, 1))\n",
    "input_attributes['2020 population'] = MinMaxScaler().fit_transform(\n",
    "    np.array(input_attributes['2020 population']).reshape(-1, 1))\n",
    "print(input_attributes)"
   ]
  },
  {
   "cell_type": "code",
   "execution_count": 8,
   "metadata": {},
   "outputs": [],
   "source": [
    "# Normalize y because NN only outputs from 0 to 1\n",
    "y_vals = MinMaxScaler().fit_transform(\n",
    "    np.array(counties_df['percent change 2020']).reshape(-1, 1)\n",
    ")\n",
    "y_vals = y_vals.reshape(y_vals.shape[0])\n"
   ]
  },
  {
   "cell_type": "code",
   "execution_count": 9,
   "metadata": {},
   "outputs": [
    {
     "name": "stdout",
     "output_type": "stream",
     "text": [
      "(2046, 59) (2046,)\n"
     ]
    }
   ],
   "source": [
    "# Train test split\n",
    "X_Train, X_Test, y_Train, y_Test = train_test_split(\n",
    "    input_attributes,\n",
    "    y_vals,\n",
    "    test_size=0.1,\n",
    "    random_state=44\n",
    ")\n",
    "\n",
    "print(X_Train.shape, y_Train.shape)\n"
   ]
  },
  {
   "cell_type": "code",
   "execution_count": null,
   "metadata": {},
   "outputs": [],
   "source": [
    "# Compile and Train the default model\n",
    "startTime = time.time()\n",
    "defaultCovidRegressor.fit(\n",
    "    x=X_Train,\n",
    "    y=y_Train,\n",
    "    epochs=DEFAULT_EPOCHS,\n",
    "    validation_data=(X_Test, y_Test)\n",
    ")\n",
    "endTime = time.time()\n",
    "\n",
    "print(f'Training took {endTime-startTime} seconds')\n"
   ]
  },
  {
   "cell_type": "code",
   "execution_count": 10,
   "metadata": {},
   "outputs": [
    {
     "name": "stdout",
     "output_type": "stream",
     "text": [
      "MSE of test set is: 0.006762514170947118\n"
     ]
    }
   ],
   "source": [
    "# raw continuous outputs\n",
    "predicted_y: np.ndarray = defaultCovidRegressor.predict(X_Test)\n",
    "print(f'MSE of test set is: {mean_squared_error(predicted_y, y_Test)}')\n"
   ]
  },
  {
   "cell_type": "code",
   "execution_count": 11,
   "metadata": {},
   "outputs": [],
   "source": [
    "def generateValidationData(inputDF: pd.DataFrame,\n",
    "                           expectedOutputs: np.ndarray,\n",
    "                           trainIndexes: np.ndarray,\n",
    "                           testIndexes: np.ndarray):\n",
    "    X_Train = inputDF.iloc[trainIndexes]\n",
    "    X_Test = inputDF.iloc[testIndexes]\n",
    "\n",
    "    y_Train = expectedOutputs[trainIndexes]\n",
    "    y_Test = expectedOutputs[testIndexes]\n",
    "\n",
    "    return X_Train, X_Test, y_Train, y_Test\n"
   ]
  },
  {
   "cell_type": "code",
   "execution_count": null,
   "metadata": {},
   "outputs": [],
   "source": [
    "# Do 10-fold validation\n",
    "# This is slow so skip if necessary\n",
    "\n",
    "KFolder = KFold(n_splits=10)\n",
    "mseScores: list[float] = []\n",
    "accuracyScores: list[float] = []\n",
    "\n",
    "for trainIndexes, testIndexes in KFolder.split(input_attributes):\n",
    "    X_Train, X_Test, y_Train, y_Test = generateValidationData(\n",
    "        input_attributes,\n",
    "        y_vals,\n",
    "        trainIndexes,\n",
    "        testIndexes\n",
    "    )\n",
    "\n",
    "    defaultCovidRegressor.fit(\n",
    "        x=X_Train, y=y_Train,\n",
    "        epochs=DEFAULT_EPOCHS,\n",
    "        validation_data=(X_Test, y_Test)\n",
    "    )\n",
    "\n",
    "    predicted_y: np.ndarray = defaultCovidRegressor.predict(X_Test)\n",
    "\n",
    "    mseScores.append(mean_squared_error(y_Test, predicted_y))\n"
   ]
  },
  {
   "cell_type": "code",
   "execution_count": 13,
   "metadata": {},
   "outputs": [
    {
     "name": "stdout",
     "output_type": "stream",
     "text": [
      "MSE Loss: [0.004512871705139331, 0.0025231299277416494, 0.003177704128180342, 0.0036238820495055894, 0.002529873698385767, 0.007066750559344212, 0.0036164537178335634, 0.004594978051647303, 0.008314283767448312, 0.0030152532817427427]\n",
      "Average MSE is: 0.004297518088696882\n"
     ]
    }
   ],
   "source": [
    "print(f'MSE Loss: {mseScores}\\nAverage MSE is: {np.average(mseScores)}')"
   ]
  },
  {
   "cell_type": "markdown",
   "metadata": {},
   "source": [
    "## RandomSearch Hyperparameter Tuning"
   ]
  },
  {
   "cell_type": "code",
   "execution_count": null,
   "metadata": {},
   "outputs": [],
   "source": [
    "# build generic model that accepts parameters\n",
    "\n",
    "def BuildModel(numNodesLayer1=30,\n",
    "               numNodesLayer2=30,\n",
    "               numNodesLayer3=15,\n",
    "               numNodesLayer4=5,\n",
    "               learningRate=DEFAULT_LEARNING_RATE):\n",
    "    SGD_optimizer: Final = tf.keras.optimizers.SGD(learning_rate=learningRate)\n",
    "    lossFunction: Final = tf.keras.losses.MeanSquaredError()\n",
    "\n",
    "    model: keras.Sequential = keras.Sequential(\n",
    "        [\n",
    "            keras.Input(shape=(59)),\n",
    "            tf.keras.layers.Dense(\n",
    "                units=numNodesLayer1, activation=tf.nn.relu, name='hidden_layer_1'),\n",
    "            tf.keras.layers.Dense(\n",
    "                units=numNodesLayer2, activation=tf.nn.relu, name='hidden_layer_2'),\n",
    "            tf.keras.layers.Dense(\n",
    "                units=numNodesLayer3, activation=tf.nn.relu, name='hidden_layer_3'),\n",
    "            tf.keras.layers.Dense(\n",
    "                units=numNodesLayer4, activation=tf.nn.relu, name='hidden_layer_4'),\n",
    "            tf.keras.layers.Dense(\n",
    "                units=1,\n",
    "                activation=tf.nn.relu,\n",
    "                name='output'\n",
    "            ),\n",
    "        ],\n",
    "        name='COVID_Regressor'\n",
    "    )\n",
    "\n",
    "    model.compile(\n",
    "        loss=lossFunction,\n",
    "        optimizer=SGD_optimizer,\n",
    "        metrics=['mse']\n",
    "    )\n",
    "    return model\n",
    "\n",
    "\n",
    "wrappedCovidRegressor = KerasRegressor(build_fn=BuildModel)\n",
    "\n",
    "# parameters passed to BuildModel(...)\n",
    "param_grid = dict(\n",
    "    nb_epoch=np.array(list(range(500, 1000))),\n",
    "    learningRate=np.array([0.03, 0.05, 0.1, 0.2]),\n",
    "    numNodesLayer1=np.array([13, 23, 30, 35]),\n",
    "    numNodesLayer2=np.array([7, 10, 20, 30]),\n",
    "    numNodesLayer3=np.array([10, 15, 17]),\n",
    "    numNodesLayer4=np.array([5, 6, 7])\n",
    ")\n",
    "\n",
    "random_search = RandomizedSearchCV(estimator=wrappedCovidRegressor,\n",
    "                                   param_distributions=param_grid,\n",
    "                                   n_jobs=-1,\n",
    "                                   cv=10)\n",
    "\n",
    "# Extremely slow, do not run this repeatedly\n",
    "random_search_result = random_search.fit(\n",
    "    X_Train,\n",
    "    y_Train,\n",
    "    validation_data=(X_Test, y_Test)\n",
    ")\n"
   ]
  },
  {
   "cell_type": "code",
   "execution_count": 21,
   "metadata": {},
   "outputs": [
    {
     "name": "stdout",
     "output_type": "stream",
     "text": [
      "{'numNodesLayer4': 6, 'numNodesLayer3': 15, 'numNodesLayer2': 20, 'numNodesLayer1': 13, 'nb_epoch': 689, 'learningRate': 0.2}\n"
     ]
    }
   ],
   "source": [
    "print(random_search_result.best_params_)"
   ]
  }
 ],
 "metadata": {
  "interpreter": {
   "hash": "aee8b7b246df8f9039afb4144a1f6fd8d2ca17a180786b69acc140d282b71a49"
  },
  "kernelspec": {
   "display_name": "Python 3.9.12 64-bit",
   "language": "python",
   "name": "python3"
  },
  "language_info": {
   "codemirror_mode": {
    "name": "ipython",
    "version": 3
   },
   "file_extension": ".py",
   "mimetype": "text/x-python",
   "name": "python",
   "nbconvert_exporter": "python",
   "pygments_lexer": "ipython3",
   "version": "3.9.12"
  },
  "orig_nbformat": 4
 },
 "nbformat": 4,
 "nbformat_minor": 2
}
