{
 "cells": [
  {
   "cell_type": "code",
   "execution_count": null,
   "id": "8491e660",
   "metadata": {},
   "outputs": [],
   "source": [
    "import pandas as pd\n",
    "import seaborn as sns\n",
    "import numpy as np\n",
    "import matplotlib.pyplot as plt\n",
    "import sklearn as sk\n",
    "\n",
    "###Use this instead\n",
    "df = pd.read_csv('us-counties-2020.csv')\n",
    "df = df.drop(columns = [\"fips\"])\n",
    "df = df[df[\"date\"] == \"2020-12-31\"]\n",
    "df = df.drop(columns = [\"date\"])\n",
    "display(df)\n",
    "\n",
    "# df.to_csv('new.csv', index=False)\n",
    "\n",
    "pop = pd.read_excel('us-counties-pop-2020.xlsx')\n",
    "pop = pop.dropna()\n",
    "pop = pop.iloc[1:] #Drop the US Column\n",
    "pop = pop.set_axis(['combined', 'April', '2020', '2021'], axis=1, inplace=False)\n",
    "sus = pop['combined'].str.split(',' , expand=True)\n",
    "\n",
    "sus[0] = sus[0].str[1:-7]\n",
    "sus[1] = sus[1].str[1:]\n",
    "#display(sus)\n",
    "\n",
    "pop = pop.drop(columns = [\"April\", \"2021\", \"combined\"])\n",
    "pop[\"county\"] = sus[0]\n",
    "pop[\"state\"] = sus[1]\n",
    "#display(pop)\n",
    "\n",
    "#display(df)\n",
    "final = df.merge(pop, how = \"left\", on = [\"county\", \"state\"])\n",
    "badData = final[final.isna().any(axis=1)]\n",
    "# badData.to_csv('bad.csv', index=False)\n",
    "\n",
    "display(final)\n",
    "# final.to_csv('complete.csv', index=False)"
   ]
  },
  {
   "cell_type": "code",
   "execution_count": null,
   "id": "9b41c9e5",
   "metadata": {},
   "outputs": [],
   "source": []
  }
 ],
 "metadata": {
  "interpreter": {
   "hash": "aee8b7b246df8f9039afb4144a1f6fd8d2ca17a180786b69acc140d282b71a49"
  },
  "kernelspec": {
   "display_name": "Python 3.9.12 64-bit",
   "language": "python",
   "name": "python3"
  },
  "language_info": {
   "codemirror_mode": {
    "name": "ipython",
    "version": 3
   },
   "file_extension": ".py",
   "mimetype": "text/x-python",
   "name": "python",
   "nbconvert_exporter": "python",
   "pygments_lexer": "ipython3",
   "version": "3.9.12"
  }
 },
 "nbformat": 4,
 "nbformat_minor": 5
}
