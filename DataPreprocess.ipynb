{
 "cells": [
  {
   "cell_type": "code",
   "execution_count": null,
   "id": "8491e660",
   "metadata": {},
   "outputs": [],
   "source": [
    "import pandas as pd\n",
    "import seaborn as sns\n",
    "import numpy as np\n",
    "import matplotlib.pyplot as plt\n",
    "import sklearn as sk\n",
    "\n",
    "# Use this instead\n",
    "df = pd.read_csv('us-counties-2020.csv')\n",
    "df = df.drop(columns=[\"fips\"])\n",
    "df = df[df[\"date\"] == \"2020-12-31\"]\n",
    "df = df.drop(columns=[\"date\"])\n",
    "display(df)\n",
    "\n",
    "# df.to_csv('new.csv', index=False)\n",
    "\n",
    "pop = pd.read_excel('us-counties-pop-2020.xlsx')\n",
    "pop = pop.dropna()\n",
    "pop = pop.iloc[1:]  # Drop the US Column\n",
    "pop = pop.set_axis(['combined', 'April', '2020', '2021'],\n",
    "                   axis=1, inplace=False)\n",
    "sus = pop['combined'].str.split(',', expand=True)\n",
    "\n",
    "sus[0] = sus[0].str[1:-7]\n",
    "sus[1] = sus[1].str[1:]\n",
    "# display(sus)\n",
    "\n",
    "pop = pop.drop(columns=[\"April\", \"2021\", \"combined\"])\n",
    "pop[\"county\"] = sus[0]\n",
    "pop[\"state\"] = sus[1]\n",
    "# display(pop)\n",
    "\n",
    "# display(df)\n",
    "final = df.merge(pop, how=\"left\", on=[\"county\", \"state\"])\n",
    "badData = final[final.isna().any(axis=1)]\n",
    "# badData.to_csv('bad.csv', index=False)\n",
    "\n",
    "display(final)\n",
    "# final.to_csv('complete.csv', index=False)\n"
   ]
  },
  {
   "cell_type": "code",
   "execution_count": 45,
   "id": "9b41c9e5",
   "metadata": {},
   "outputs": [
    {
     "name": "stdout",
     "output_type": "stream",
     "text": [
      "          county       2019 percent change 2020\n",
      "5        Alabama  203383898                -3.2\n",
      "6        Autauga    1540762                -1.3\n",
      "7        Baldwin    7134734                -2.1\n",
      "8        Barbour     729105                -5.8\n",
      "9           Bibb     380453                 2.1\n",
      "...          ...        ...                 ...\n",
      "3217  Sweetwater    3677972               -10.9\n",
      "3218       Teton    2268742                -4.1\n",
      "3219       Uinta     881052               -10.3\n",
      "3220    Washakie     349686                -3.7\n",
      "3221      Weston     322576                -3.1\n",
      "\n",
      "[3217 rows x 3 columns]\n"
     ]
    }
   ],
   "source": [
    "gdp_raw = pd.read_excel('gdp.xlsx').set_axis(\n",
    "    ['county', '2017', '2018', '2019', '2020', 'rank 2018', 'percent change 2018', 'percent change 2019', 'percent change 2020', 'rank 2020'], axis=1, inplace=False)\n",
    "gdp_clean: pd.DataFrame = gdp_raw.drop(columns=['rank 2018', '2017', '2018', '2020',\n",
    "                                                'rank 2020', 'percent change 2018', 'percent change 2019'], inplace=False).iloc[5:3222]\n",
    "print(gdp_clean)\n"
   ]
  },
  {
   "cell_type": "code",
   "execution_count": 38,
   "id": "b1b8281a",
   "metadata": {},
   "outputs": [
    {
     "name": "stdout",
     "output_type": "stream",
     "text": [
      "['Washington' 'Illinois' 'California' 'Arizona' 'Massachusetts'\n",
      " 'Wisconsin' 'Texas' 'Nebraska' 'Utah' 'Oregon' 'Florida' 'New York'\n",
      " 'Rhode Island' 'Georgia' 'New Hampshire' 'North Carolina' 'New Jersey'\n",
      " 'Colorado' 'Maryland' 'Nevada' 'Tennessee' 'Hawaii' 'Indiana' 'Kentucky'\n",
      " 'Minnesota' 'Oklahoma' 'Pennsylvania' 'South Carolina'\n",
      " 'District of Columbia' 'Kansas' 'Missouri' 'Vermont' 'Virginia'\n",
      " 'Connecticut' 'Iowa' 'Louisiana' 'Ohio' 'Michigan' 'South Dakota'\n",
      " 'Arkansas' 'Delaware' 'Mississippi' 'New Mexico' 'North Dakota' 'Wyoming'\n",
      " 'Alaska' 'Maine' 'Alabama' 'Idaho' 'Montana' 'Puerto Rico'\n",
      " 'Virgin Islands' 'Guam' 'West Virginia' 'Northern Mariana Islands']\n",
      "55\n"
     ]
    }
   ],
   "source": [
    "state_names = pd.read_csv('us-counties-2020.csv')['state'].unique()\n",
    "print(state_names)\n",
    "print(len(state_names))\n"
   ]
  },
  {
   "cell_type": "code",
   "execution_count": 52,
   "id": "5a2d829d",
   "metadata": {},
   "outputs": [],
   "source": [
    "counties_df = pd.read_csv('complete.csv')\n",
    "counties_df['2019 raw GDP'] = pd.NaT  # iloc =5\n",
    "counties_df['percent change 2020'] = pd.NaT  # iloc = 6\n",
    "\n",
    "curr_state = None\n",
    "for index, row in gdp_clean.iterrows():\n",
    "    if row[0] in state_names:\n",
    "        curr_state = row[0]\n",
    "        continue\n",
    "    else:\n",
    "        row_index = counties_df.index[(counties_df['state'] == curr_state) & (\n",
    "            counties_df['county'] == row[0])].tolist()\n",
    "        counties_df.iloc[[row_index], [5]] = row[1]  # type: ignore\n",
    "        counties_df.iloc[[row_index], [6]] = row[2]  # type: ignore\n"
   ]
  },
  {
   "cell_type": "code",
   "execution_count": 53,
   "id": "1ac4af1c",
   "metadata": {},
   "outputs": [
    {
     "name": "stdout",
     "output_type": "stream",
     "text": [
      "          county    state  cases  deaths  2020 population 2019 raw GDP  \\\n",
      "0        Autauga  Alabama   4190    48.0          58877.0      1540762   \n",
      "1        Baldwin  Alabama  13601   161.0         233140.0      7134734   \n",
      "2        Barbour  Alabama   1514    32.0          25180.0       729105   \n",
      "3           Bibb  Alabama   1834    46.0          22223.0       380453   \n",
      "4         Blount  Alabama   4641    63.0          59081.0       932215   \n",
      "...          ...      ...    ...     ...              ...          ...   \n",
      "3240  Sweetwater  Wyoming   2966    16.0          42158.0      3677972   \n",
      "3241       Teton  Wyoming   2138     4.0          23347.0      2268742   \n",
      "3242       Uinta  Wyoming   1558     7.0          20441.0       881052   \n",
      "3243    Washakie  Wyoming    780    19.0           7658.0       349686   \n",
      "3244      Weston  Wyoming    476     2.0           6809.0       322576   \n",
      "\n",
      "     percent change 2020  \n",
      "0                   -1.3  \n",
      "1                   -2.1  \n",
      "2                   -5.8  \n",
      "3                    2.1  \n",
      "4                   -5.4  \n",
      "...                  ...  \n",
      "3240               -10.9  \n",
      "3241                -4.1  \n",
      "3242               -10.3  \n",
      "3243                -3.7  \n",
      "3244                -3.1  \n",
      "\n",
      "[3245 rows x 7 columns]\n"
     ]
    }
   ],
   "source": [
    "print(counties_df)"
   ]
  },
  {
   "cell_type": "code",
   "execution_count": null,
   "id": "7c6c8372",
   "metadata": {},
   "outputs": [],
   "source": []
  }
 ],
 "metadata": {
  "interpreter": {
   "hash": "aee8b7b246df8f9039afb4144a1f6fd8d2ca17a180786b69acc140d282b71a49"
  },
  "kernelspec": {
   "display_name": "Python 3.9.12 64-bit",
   "language": "python",
   "name": "python3"
  },
  "language_info": {
   "codemirror_mode": {
    "name": "ipython",
    "version": 3
   },
   "file_extension": ".py",
   "mimetype": "text/x-python",
   "name": "python",
   "nbconvert_exporter": "python",
   "pygments_lexer": "ipython3",
   "version": "3.9.12"
  }
 },
 "nbformat": 4,
 "nbformat_minor": 5
}
