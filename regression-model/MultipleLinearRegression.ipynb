{
 "cells": [
  {
   "cell_type": "code",
   "execution_count": 1,
   "id": "6620b309",
   "metadata": {},
   "outputs": [],
   "source": [
    "import pandas as pd\n",
    "import numpy as np\n",
    "\n",
    "from sklearn.metrics import r2_score\n",
    "from sklearn.metrics import mean_squared_error\n",
    "from sklearn.model_selection import train_test_split\n",
    "from sklearn import linear_model\n",
    "from sklearn.preprocessing import MinMaxScaler\n",
    "from sklearn.model_selection import train_test_split"
   ]
  },
  {
   "cell_type": "code",
   "execution_count": 3,
   "id": "a08c8b7a",
   "metadata": {},
   "outputs": [
    {
     "name": "stdout",
     "output_type": "stream",
     "text": [
      "Regression Coefficients: [ 8.74055954e-07 -1.50484627e-05 -9.81697764e-08  5.34929908e-10]\n",
      "Mean Squared Error: 0.0052762\n",
      "r^2 score: 0.0069095567178323325\n"
     ]
    }
   ],
   "source": [
    "df = pd.read_csv('../neural-network/The FINAL Dataset.csv')\n",
    "df = df.dropna()\n",
    "\n",
    "df['2019 raw GDP'] = df['2019 raw GDP'].astype('float64')\n",
    "df['percent change 2020'] = df['percent change 2020'].astype('float64')\n",
    "df['cases'] = df['cases'].astype('int32')\n",
    "df['deaths'] = df['deaths'].astype('int32')\n",
    "\n",
    "linear_model_scaler = MinMaxScaler()\n",
    "df['percent change 2020'] = linear_model_scaler.fit_transform(np.array(df['percent change 2020'].values).reshape(-1, 1))\n",
    "\n",
    "X = df.copy().drop(columns=['percent change 2020', 'state', 'county'])\n",
    "y = df['percent change 2020']\n",
    "\n",
    "x_train, x_test, y_train, y_test = train_test_split(\n",
    "    X, y, test_size=0.2, random_state=25)\n",
    "\n",
    "regr = linear_model.LinearRegression()\n",
    "regr.fit(x_train, y_train)\n",
    "predictions = regr.predict(x_test)\n",
    "\n",
    "print(f'Regression Coefficients: {regr.coef_}')\n",
    "print(\"Mean Squared Error: %.7f\" % mean_squared_error(y_test, predictions))\n",
    "print(f'r^2 score: {r2_score(y_test, predictions)}')"
   ]
  },
  {
   "cell_type": "code",
   "execution_count": 15,
   "id": "a3762978",
   "metadata": {},
   "outputs": [],
   "source": [
    "import pickle\n",
    "with open('./linearModel.pkl', 'wb') as f:\n",
    "    pickle.dump(regr, f)\n",
    "with open('./linearModelScaler.pkl', 'wb') as f:\n",
    "    pickle.dump(linear_model_scaler, f)"
   ]
  }
 ],
 "metadata": {
  "interpreter": {
   "hash": "aee8b7b246df8f9039afb4144a1f6fd8d2ca17a180786b69acc140d282b71a49"
  },
  "kernelspec": {
   "display_name": "Python 3.9.12 64-bit",
   "language": "python",
   "name": "python3"
  },
  "language_info": {
   "codemirror_mode": {
    "name": "ipython",
    "version": 3
   },
   "file_extension": ".py",
   "mimetype": "text/x-python",
   "name": "python",
   "nbconvert_exporter": "python",
   "pygments_lexer": "ipython3",
   "version": "3.9.12"
  }
 },
 "nbformat": 4,
 "nbformat_minor": 5
}
