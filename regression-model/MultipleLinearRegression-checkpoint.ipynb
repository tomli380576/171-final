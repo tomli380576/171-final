{
 "cells": [
  {
   "cell_type": "code",
   "execution_count": 8,
   "id": "6620b309",
   "metadata": {},
   "outputs": [
    {
     "name": "stdout",
     "output_type": "stream",
     "text": [
      "          county    state  cases  deaths  2020 population  2019 raw GDP  \\\n",
      "0        Autauga  Alabama   4190      48          58877.0     1540762.0   \n",
      "1        Baldwin  Alabama  13601     161         233140.0     7134734.0   \n",
      "2        Barbour  Alabama   1514      32          25180.0      729105.0   \n",
      "3           Bibb  Alabama   1834      46          22223.0      380453.0   \n",
      "4         Blount  Alabama   4641      63          59081.0      932215.0   \n",
      "...          ...      ...    ...     ...              ...           ...   \n",
      "3240  Sweetwater  Wyoming   2966      16          42158.0     3677972.0   \n",
      "3241       Teton  Wyoming   2138       4          23347.0     2268742.0   \n",
      "3242       Uinta  Wyoming   1558       7          20441.0      881052.0   \n",
      "3243    Washakie  Wyoming    780      19           7658.0      349686.0   \n",
      "3244      Weston  Wyoming    476       2           6809.0      322576.0   \n",
      "\n",
      "      percent change 2020  \n",
      "0                0.231388  \n",
      "1                0.223340  \n",
      "2                0.186117  \n",
      "3                0.265594  \n",
      "4                0.190141  \n",
      "...                   ...  \n",
      "3240             0.134809  \n",
      "3241             0.203219  \n",
      "3242             0.140845  \n",
      "3243             0.207243  \n",
      "3244             0.213280  \n",
      "\n",
      "[2274 rows x 7 columns]\n",
      "Regression Coefficients: [ 8.74055954e-07 -1.50484627e-05 -9.81697764e-08  5.34929908e-10]\n",
      "Mean Squared Error: 0.0052762\n",
      "r^2 score: 0.0069095567178323325\n"
     ]
    }
   ],
   "source": [
    "import pandas as pd\n",
    "import numpy as np\n",
    "\n",
    "from sklearn.metrics import r2_score\n",
    "from sklearn.metrics import mean_squared_error\n",
    "from sklearn.model_selection import train_test_split\n",
    "from sklearn import linear_model\n",
    "from sklearn.preprocessing import MinMaxScaler\n",
    "from sklearn.model_selection import train_test_split\n",
    "\n",
    "df = pd.read_csv('../neural-network/The FINAL Dataset.csv')\n",
    "df = df.dropna()\n",
    "\n",
    "df['2019 raw GDP'] = df['2019 raw GDP'].astype('float64')\n",
    "df['percent change 2020'] = df['percent change 2020'].astype('float64')\n",
    "df['cases'] = df['cases'].astype('int32')\n",
    "df['deaths'] = df['deaths'].astype('int32')\n",
    "\n",
    "linear_model_scaler = MinMaxScaler()\n",
    "df['percent change 2020'] = linear_model_scaler.fit_transform(np.array(df['percent change 2020'].values).reshape(-1, 1))\n",
    "\n",
    "X = df.copy().drop(columns=['percent change 2020', 'state', 'county'])\n",
    "y = df['percent change 2020']\n",
    "\n",
    "x_train, x_test, y_train, y_test = train_test_split(\n",
    "    X, y, test_size=0.2, random_state=25)\n",
    "\n",
    "regr = linear_model.LinearRegression()\n",
    "regr.fit(x_train, y_train)\n",
    "predictions = regr.predict(x_test)\n",
    "\n",
    "print(df)\n",
    "print(f'Regression Coefficients: {regr.coef_}')\n",
    "print(\"Mean Squared Error: %.7f\" % mean_squared_error(y_test, predictions))\n",
    "print(f'r^2 score: {r2_score(y_test, predictions)}')\n"
   ]
  },
  {
   "cell_type": "code",
   "execution_count": 15,
   "id": "a3762978",
   "metadata": {},
   "outputs": [],
   "source": [
    "import pickle\n",
    "with open('./linearModel.pkl', 'wb') as f:\n",
    "    pickle.dump(regr, f)\n",
    "with open('./linearModelScaler.pkl', 'wb') as f:\n",
    "    pickle.dump(linear_model_scaler, f)"
   ]
  },
  {
   "cell_type": "code",
   "execution_count": 16,
   "id": "c679d935",
   "metadata": {},
   "outputs": [
    {
     "data": {
      "text/plain": [
       "array([[0.20035319]])"
      ]
     },
     "execution_count": 16,
     "metadata": {},
     "output_type": "execute_result"
    }
   ],
   "source": [
    "linear_model_scaler.inverse_transform(np.array([0.24648242640900853]).reshape(-1, 1))"
   ]
  },
  {
   "cell_type": "code",
   "execution_count": null,
   "id": "8e14e80a",
   "metadata": {},
   "outputs": [],
   "source": []
  }
 ],
 "metadata": {
  "interpreter": {
   "hash": "aee8b7b246df8f9039afb4144a1f6fd8d2ca17a180786b69acc140d282b71a49"
  },
  "kernelspec": {
   "display_name": "Python 3.9.12 64-bit",
   "language": "python",
   "name": "python3"
  },
  "language_info": {
   "codemirror_mode": {
    "name": "ipython",
    "version": 3
   },
   "file_extension": ".py",
   "mimetype": "text/x-python",
   "name": "python",
   "nbconvert_exporter": "python",
   "pygments_lexer": "ipython3",
   "version": "3.9.12"
  }
 },
 "nbformat": 4,
 "nbformat_minor": 5
}
